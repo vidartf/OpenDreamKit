{
 "cells": [
  {
   "cell_type": "code",
   "execution_count": 1,
   "metadata": {
    "collapsed": false,
    "deletable": true,
    "editable": true
   },
   "outputs": [],
   "source": [
    "import graphviz as gv"
   ]
  },
  {
   "cell_type": "markdown",
   "metadata": {
    "deletable": true,
    "editable": true
   },
   "source": [
    "### Define some utility functions for working with graphviz:"
   ]
  },
  {
   "cell_type": "code",
   "execution_count": 2,
   "metadata": {
    "collapsed": true,
    "deletable": true,
    "editable": true
   },
   "outputs": [],
   "source": [
    "def graph(styles=None, **kwargs):\n",
    "    g = gv.Digraph(format='svg', engine='dot.bat', **kwargs)\n",
    "    if styles:\n",
    "        g.graph_attr.update(styles)\n",
    "    return g\n",
    "\n",
    "def add_nodes(graph, nodes):\n",
    "    for n in nodes:\n",
    "        if isinstance(n, tuple):\n",
    "            graph.node(n[0], **n[1])\n",
    "        else:\n",
    "            graph.node(n)\n",
    "    return graph\n",
    "\n",
    "def add_edges(graph, edges):\n",
    "    for e in edges:\n",
    "        if isinstance(e[0], tuple):\n",
    "            graph.edge(*e[0], **e[1])\n",
    "        else:\n",
    "            graph.edge(*e)\n",
    "    return graph\n",
    "\n",
    "def add_edges_reversed(graph, edges):\n",
    "    for e in edges:\n",
    "        if isinstance(e[0], tuple):\n",
    "            graph.edge(*reversed(e[0]), **e[1])\n",
    "        else:\n",
    "            graph.edge(*reversed(e))\n",
    "    return graph\n",
    "\n",
    "def apply_styles(graph, styles):\n",
    "    graph.graph_attr.update(\n",
    "        ('graph' in styles and styles['graph']) or {}\n",
    "    )\n",
    "    graph.node_attr.update(\n",
    "        ('nodes' in styles and styles['nodes']) or {}\n",
    "    )\n",
    "    graph.edge_attr.update(\n",
    "        ('edges' in styles and styles['edges']) or {}\n",
    "    )\n",
    "    return graph"
   ]
  },
  {
   "cell_type": "markdown",
   "metadata": {
    "deletable": true,
    "editable": true
   },
   "source": [
    "### Nodes (with individual styles):"
   ]
  },
  {
   "cell_type": "code",
   "execution_count": 3,
   "metadata": {
    "collapsed": false,
    "deletable": true,
    "editable": true
   },
   "outputs": [],
   "source": [
    "browser_nodes = [\n",
    "    ('WebGL', dict(style='filled', fillcolor='lightblue')),\n",
    "    ('ThreeJS', dict(style='filled', fillcolor='lightblue')),\n",
    "    ('x3dom', dict(style='filled', fillcolor='lightblue')),\n",
    "    ('vtk.js', dict(style='filled', fillcolor='lightblue')),\n",
    "    'GlowScript',\n",
    "    'K3D',\n",
    "    ('ParaViewWeb', dict(style='filled', fillcolor='beige')),\n",
    "    ('SciviJS', dict(style='filled', fillcolor='beige')),\n",
    "]\n",
    "\n",
    "kernel_nodes = [\n",
    "    ('PyThreeJS', dict(style='filled', fillcolor='lightblue')),\n",
    "    'Mayavi',\n",
    "    'VisPy.gloo',\n",
    "    'K3D-Jupyter',\n",
    "    'VPython',\n",
    "    'Sage.plot3d',\n",
    "    'IPyVolume',\n",
    "    'VisPy.scene'\n",
    "]"
   ]
  },
  {
   "cell_type": "markdown",
   "metadata": {
    "deletable": true,
    "editable": true
   },
   "source": [
    "### Dependencies:"
   ]
  },
  {
   "cell_type": "code",
   "execution_count": 4,
   "metadata": {
    "collapsed": true,
    "deletable": true,
    "editable": true
   },
   "outputs": [],
   "source": [
    "web_intra_dependencies = [\n",
    "    ('ThreeJS', 'WebGL'),\n",
    "    ('x3dom', 'WebGL'),\n",
    "    ('vtk.js', 'WebGL'),\n",
    "    ('GlowScript', 'WebGL'),\n",
    "    ('K3D', 'ThreeJS'),\n",
    "    ('ParaViewWeb', 'ThreeJS'),\n",
    "    ('ParaViewWeb', 'vtk.js'),\n",
    "    ('SciviJS', 'ThreeJS'),\n",
    "]\n",
    "\n",
    "kernel_intra_dependencies = [\n",
    "    ('VisPy.scene', 'VisPy.gloo'),\n",
    "]\n",
    "\n",
    "# Labels define how the two sides communicate:\n",
    "kernel_browser_dependencies = [\n",
    "    (('PyThreeJS', 'ThreeJS'), {'label': 'IPyWidgets sync'}),\n",
    "    (('IPyVolume', 'ThreeJS'), {'label': 'IPyWidgets sync'}),\n",
    "    (('Mayavi', 'x3dom'), {'label': 'Static HTML'}),\n",
    "    (('VisPy.gloo', 'WebGL'), {'label': 'Comm'}),\n",
    "    (('K3D-Jupyter', 'K3D'), {'label': 'IPyWidgets sync'}),\n",
    "    (('VPython', 'GlowScript'), {'label': 'Comm'}),\n",
    "    (('Sage.plot3d', 'ThreeJS'), {'label': 'Static HTML'}),\n",
    "]"
   ]
  },
  {
   "cell_type": "markdown",
   "metadata": {
    "deletable": true,
    "editable": true
   },
   "source": [
    "### Combine into a graph with two clusters:"
   ]
  },
  {
   "cell_type": "code",
   "execution_count": 5,
   "metadata": {
    "collapsed": false,
    "deletable": true,
    "editable": true,
    "scrolled": false
   },
   "outputs": [
    {
     "data": {
      "image/svg+xml": [
       "<?xml version=\"1.0\" encoding=\"UTF-8\" standalone=\"no\"?>\r\n",
       "<!DOCTYPE svg PUBLIC \"-//W3C//DTD SVG 1.1//EN\"\r\n",
       " \"http://www.w3.org/Graphics/SVG/1.1/DTD/svg11.dtd\">\r\n",
       "<!-- Generated by graphviz version 2.38.0 (20140413.2041)\r\n",
       " -->\r\n",
       "<!-- Title: %3 Pages: 1 -->\r\n",
       "<svg width=\"736pt\" height=\"526pt\"\r\n",
       " viewBox=\"0.00 0.00 736.00 526.00\" xmlns=\"http://www.w3.org/2000/svg\" xmlns:xlink=\"http://www.w3.org/1999/xlink\">\r\n",
       "<g id=\"graph0\" class=\"graph\" transform=\"scale(1 1) rotate(0) translate(4 522)\">\r\n",
       "<title>%3</title>\r\n",
       "<polygon fill=\"white\" stroke=\"none\" points=\"-4,4 -4,-522 732,-522 732,4 -4,4\"/>\r\n",
       "<g id=\"clust1\" class=\"cluster\"><title>cluster0</title>\r\n",
       "<polygon fill=\"none\" stroke=\"black\" points=\"8,-268 8,-510 376,-510 376,-268 8,-268\"/>\r\n",
       "<text text-anchor=\"middle\" x=\"192\" y=\"-494.8\" font-family=\"Times New Roman,serif\" font-size=\"14.00\">Browser</text>\r\n",
       "</g>\r\n",
       "<g id=\"clust2\" class=\"cluster\"><title>cluster1</title>\r\n",
       "<polygon fill=\"none\" stroke=\"black\" points=\"493,-8 493,-415 720,-415 720,-8 493,-8\"/>\r\n",
       "<text text-anchor=\"middle\" x=\"606.5\" y=\"-399.8\" font-family=\"Times New Roman,serif\" font-size=\"14.00\">Kernel</text>\r\n",
       "</g>\r\n",
       "<!-- WebGL -->\r\n",
       "<g id=\"node1\" class=\"node\"><title>WebGL</title>\r\n",
       "<polygon fill=\"lightblue\" stroke=\"black\" points=\"16,-332 16,-368 78,-368 78,-332 16,-332\"/>\r\n",
       "<text text-anchor=\"middle\" x=\"47\" y=\"-346.3\" font-family=\"Times New Roman,serif\" font-size=\"14.00\">WebGL</text>\r\n",
       "</g>\r\n",
       "<!-- ThreeJS -->\r\n",
       "<g id=\"node2\" class=\"node\"><title>ThreeJS</title>\r\n",
       "<polygon fill=\"lightblue\" stroke=\"black\" points=\"124.5,-387 124.5,-423 186.5,-423 186.5,-387 124.5,-387\"/>\r\n",
       "<text text-anchor=\"middle\" x=\"155.5\" y=\"-401.3\" font-family=\"Times New Roman,serif\" font-size=\"14.00\">ThreeJS</text>\r\n",
       "</g>\r\n",
       "<!-- WebGL&#45;&gt;ThreeJS -->\r\n",
       "<g id=\"edge1\" class=\"edge\"><title>WebGL&#45;&gt;ThreeJS</title>\r\n",
       "<path fill=\"none\" stroke=\"black\" d=\"M87.3,-370.296C99.4838,-376.588 112.716,-383.421 124.191,-389.347\"/>\r\n",
       "<polygon fill=\"black\" stroke=\"black\" points=\"88.7249,-367.092 78.2338,-365.614 85.5129,-373.312 88.7249,-367.092\"/>\r\n",
       "</g>\r\n",
       "<!-- x3dom -->\r\n",
       "<g id=\"node3\" class=\"node\"><title>x3dom</title>\r\n",
       "<polygon fill=\"lightblue\" stroke=\"black\" points=\"127.5,-332 127.5,-368 183.5,-368 183.5,-332 127.5,-332\"/>\r\n",
       "<text text-anchor=\"middle\" x=\"155.5\" y=\"-346.3\" font-family=\"Times New Roman,serif\" font-size=\"14.00\">x3dom</text>\r\n",
       "</g>\r\n",
       "<!-- WebGL&#45;&gt;x3dom -->\r\n",
       "<g id=\"edge2\" class=\"edge\"><title>WebGL&#45;&gt;x3dom</title>\r\n",
       "<path fill=\"none\" stroke=\"black\" d=\"M88.4054,-350C101.462,-350 115.615,-350 127.462,-350\"/>\r\n",
       "<polygon fill=\"black\" stroke=\"black\" points=\"88.2338,-346.5 78.2338,-350 88.2337,-353.5 88.2338,-346.5\"/>\r\n",
       "</g>\r\n",
       "<!-- vtk.js -->\r\n",
       "<g id=\"node4\" class=\"node\"><title>vtk.js</title>\r\n",
       "<polygon fill=\"lightblue\" stroke=\"black\" points=\"128.5,-442 128.5,-478 182.5,-478 182.5,-442 128.5,-442\"/>\r\n",
       "<text text-anchor=\"middle\" x=\"155.5\" y=\"-456.3\" font-family=\"Times New Roman,serif\" font-size=\"14.00\">vtk.js</text>\r\n",
       "</g>\r\n",
       "<!-- WebGL&#45;&gt;vtk.js -->\r\n",
       "<g id=\"edge3\" class=\"edge\"><title>WebGL&#45;&gt;vtk.js</title>\r\n",
       "<path fill=\"none\" stroke=\"black\" d=\"M66.334,-376.58C78.9016,-393.754 96.5791,-415.989 115,-433 119.028,-436.719 123.604,-440.316 128.178,-443.605\"/>\r\n",
       "<polygon fill=\"black\" stroke=\"black\" points=\"68.9288,-374.193 60.251,-368.115 63.2442,-378.278 68.9288,-374.193\"/>\r\n",
       "</g>\r\n",
       "<!-- GlowScript -->\r\n",
       "<g id=\"node5\" class=\"node\"><title>GlowScript</title>\r\n",
       "<polygon fill=\"none\" stroke=\"black\" points=\"115,-277 115,-313 196,-313 196,-277 115,-277\"/>\r\n",
       "<text text-anchor=\"middle\" x=\"155.5\" y=\"-291.3\" font-family=\"Times New Roman,serif\" font-size=\"14.00\">GlowScript</text>\r\n",
       "</g>\r\n",
       "<!-- WebGL&#45;&gt;GlowScript -->\r\n",
       "<g id=\"edge4\" class=\"edge\"><title>WebGL&#45;&gt;GlowScript</title>\r\n",
       "<path fill=\"none\" stroke=\"black\" d=\"M87.2204,-329.745C97.7279,-324.319 109.02,-318.487 119.296,-313.181\"/>\r\n",
       "<polygon fill=\"black\" stroke=\"black\" points=\"85.5129,-326.688 78.2338,-334.386 88.7249,-332.908 85.5129,-326.688\"/>\r\n",
       "</g>\r\n",
       "<!-- VisPy.gloo -->\r\n",
       "<g id=\"node11\" class=\"node\"><title>VisPy.gloo</title>\r\n",
       "<polygon fill=\"none\" stroke=\"black\" points=\"505.5,-17 505.5,-53 584.5,-53 584.5,-17 505.5,-17\"/>\r\n",
       "<text text-anchor=\"middle\" x=\"545\" y=\"-31.3\" font-family=\"Times New Roman,serif\" font-size=\"14.00\">VisPy.gloo</text>\r\n",
       "</g>\r\n",
       "<!-- WebGL&#45;&gt;VisPy.gloo -->\r\n",
       "<g id=\"edge13\" class=\"edge\"><title>WebGL&#45;&gt;VisPy.gloo</title>\r\n",
       "<path fill=\"none\" stroke=\"black\" d=\"M63.2479,-322.99C89.4175,-278.489 146.622,-188.932 214,-131 299.396,-57.5764 438.26,-40.2366 505.325,-36.1933\"/>\r\n",
       "<polygon fill=\"black\" stroke=\"black\" points=\"60.1413,-321.369 58.1421,-331.774 66.1933,-324.887 60.1413,-321.369\"/>\r\n",
       "<text text-anchor=\"middle\" x=\"233.5\" y=\"-134.8\" font-family=\"Times New Roman,serif\" font-size=\"14.00\" fill=\"red\">Comm</text>\r\n",
       "</g>\r\n",
       "<!-- K3D -->\r\n",
       "<g id=\"node6\" class=\"node\"><title>K3D</title>\r\n",
       "<polygon fill=\"none\" stroke=\"black\" points=\"292.5,-442 292.5,-478 346.5,-478 346.5,-442 292.5,-442\"/>\r\n",
       "<text text-anchor=\"middle\" x=\"319.5\" y=\"-456.3\" font-family=\"Times New Roman,serif\" font-size=\"14.00\">K3D</text>\r\n",
       "</g>\r\n",
       "<!-- ThreeJS&#45;&gt;K3D -->\r\n",
       "<g id=\"edge5\" class=\"edge\"><title>ThreeJS&#45;&gt;K3D</title>\r\n",
       "<path fill=\"none\" stroke=\"black\" d=\"M196.309,-418.515C226.223,-428.671 266.351,-442.295 292.317,-451.111\"/>\r\n",
       "<polygon fill=\"black\" stroke=\"black\" points=\"197.186,-415.117 186.591,-415.216 194.935,-421.745 197.186,-415.117\"/>\r\n",
       "</g>\r\n",
       "<!-- ParaViewWeb -->\r\n",
       "<g id=\"node7\" class=\"node\"><title>ParaViewWeb</title>\r\n",
       "<polygon fill=\"beige\" stroke=\"black\" points=\"271,-387 271,-423 368,-423 368,-387 271,-387\"/>\r\n",
       "<text text-anchor=\"middle\" x=\"319.5\" y=\"-401.3\" font-family=\"Times New Roman,serif\" font-size=\"14.00\">ParaViewWeb</text>\r\n",
       "</g>\r\n",
       "<!-- ThreeJS&#45;&gt;ParaViewWeb -->\r\n",
       "<g id=\"edge6\" class=\"edge\"><title>ThreeJS&#45;&gt;ParaViewWeb</title>\r\n",
       "<path fill=\"none\" stroke=\"black\" d=\"M196.778,-405C219.194,-405 247.233,-405 270.749,-405\"/>\r\n",
       "<polygon fill=\"black\" stroke=\"black\" points=\"196.591,-401.5 186.591,-405 196.591,-408.5 196.591,-401.5\"/>\r\n",
       "</g>\r\n",
       "<!-- SciviJS -->\r\n",
       "<g id=\"node8\" class=\"node\"><title>SciviJS</title>\r\n",
       "<polygon fill=\"beige\" stroke=\"black\" points=\"290.5,-332 290.5,-368 348.5,-368 348.5,-332 290.5,-332\"/>\r\n",
       "<text text-anchor=\"middle\" x=\"319.5\" y=\"-346.3\" font-family=\"Times New Roman,serif\" font-size=\"14.00\">SciviJS</text>\r\n",
       "</g>\r\n",
       "<!-- ThreeJS&#45;&gt;SciviJS -->\r\n",
       "<g id=\"edge8\" class=\"edge\"><title>ThreeJS&#45;&gt;SciviJS</title>\r\n",
       "<path fill=\"none\" stroke=\"black\" d=\"M196.096,-391.557C225.331,-381.631 264.409,-368.364 290.466,-359.518\"/>\r\n",
       "<polygon fill=\"black\" stroke=\"black\" points=\"194.935,-388.255 186.591,-394.784 197.186,-394.883 194.935,-388.255\"/>\r\n",
       "</g>\r\n",
       "<!-- PyThreeJS -->\r\n",
       "<g id=\"node9\" class=\"node\"><title>PyThreeJS</title>\r\n",
       "<polygon fill=\"lightblue\" stroke=\"black\" points=\"506.5,-292 506.5,-328 583.5,-328 583.5,-292 506.5,-292\"/>\r\n",
       "<text text-anchor=\"middle\" x=\"545\" y=\"-306.3\" font-family=\"Times New Roman,serif\" font-size=\"14.00\">PyThreeJS</text>\r\n",
       "</g>\r\n",
       "<!-- ThreeJS&#45;&gt;PyThreeJS -->\r\n",
       "<g id=\"edge10\" class=\"edge\"><title>ThreeJS&#45;&gt;PyThreeJS</title>\r\n",
       "<path fill=\"none\" stroke=\"black\" d=\"M192.39,-380.825C193.618,-379.884 194.825,-378.941 196,-378 231.59,-349.498 228.58,-324.72 271,-308 349.931,-276.888 451.953,-290.262 506.185,-301.122\"/>\r\n",
       "<polygon fill=\"black\" stroke=\"black\" points=\"190.067,-378.188 184.087,-386.935 194.216,-383.826 190.067,-378.188\"/>\r\n",
       "<text text-anchor=\"middle\" x=\"319.5\" y=\"-311.8\" font-family=\"Times New Roman,serif\" font-size=\"14.00\" fill=\"red\">IPyWidgets sync</text>\r\n",
       "</g>\r\n",
       "<!-- Sage.plot3d -->\r\n",
       "<g id=\"node14\" class=\"node\"><title>Sage.plot3d</title>\r\n",
       "<polygon fill=\"none\" stroke=\"black\" points=\"503.5,-237 503.5,-273 586.5,-273 586.5,-237 503.5,-237\"/>\r\n",
       "<text text-anchor=\"middle\" x=\"545\" y=\"-251.3\" font-family=\"Times New Roman,serif\" font-size=\"14.00\">Sage.plot3d</text>\r\n",
       "</g>\r\n",
       "<!-- ThreeJS&#45;&gt;Sage.plot3d -->\r\n",
       "<g id=\"edge16\" class=\"edge\"><title>ThreeJS&#45;&gt;Sage.plot3d</title>\r\n",
       "<path fill=\"none\" stroke=\"black\" d=\"M193.926,-380.673C194.655,-379.803 195.348,-378.912 196,-378 213.434,-353.615 197.278,-337.879 214,-313 231.853,-286.439 240.985,-280.103 271,-269 349.115,-240.103 448.43,-244.247 503.166,-249.71\"/>\r\n",
       "<polygon fill=\"black\" stroke=\"black\" points=\"191.251,-378.396 186.596,-387.913 196.17,-383.376 191.251,-378.396\"/>\r\n",
       "<text text-anchor=\"middle\" x=\"319.5\" y=\"-272.8\" font-family=\"Times New Roman,serif\" font-size=\"14.00\" fill=\"red\">Static HTML</text>\r\n",
       "</g>\r\n",
       "<!-- IPyVolume -->\r\n",
       "<g id=\"node15\" class=\"node\"><title>IPyVolume</title>\r\n",
       "<polygon fill=\"none\" stroke=\"black\" points=\"505,-182 505,-218 585,-218 585,-182 505,-182\"/>\r\n",
       "<text text-anchor=\"middle\" x=\"545\" y=\"-196.3\" font-family=\"Times New Roman,serif\" font-size=\"14.00\">IPyVolume</text>\r\n",
       "</g>\r\n",
       "<!-- ThreeJS&#45;&gt;IPyVolume -->\r\n",
       "<g id=\"edge11\" class=\"edge\"><title>ThreeJS&#45;&gt;IPyVolume</title>\r\n",
       "<path fill=\"none\" stroke=\"black\" d=\"M193.705,-381.205C194.526,-380.17 195.294,-379.102 196,-378 221.775,-337.762 189.172,-312.829 214,-272 230.488,-244.886 241.484,-240.655 271,-229 349.689,-197.929 450.502,-196.003 504.93,-197.744\"/>\r\n",
       "<polygon fill=\"black\" stroke=\"black\" points=\"191.069,-378.894 186.562,-388.483 196.065,-383.798 191.069,-378.894\"/>\r\n",
       "<text text-anchor=\"middle\" x=\"319.5\" y=\"-232.8\" font-family=\"Times New Roman,serif\" font-size=\"14.00\" fill=\"red\">IPyWidgets sync</text>\r\n",
       "</g>\r\n",
       "<!-- Mayavi -->\r\n",
       "<g id=\"node10\" class=\"node\"><title>Mayavi</title>\r\n",
       "<polygon fill=\"none\" stroke=\"black\" points=\"516.5,-127 516.5,-163 573.5,-163 573.5,-127 516.5,-127\"/>\r\n",
       "<text text-anchor=\"middle\" x=\"545\" y=\"-141.3\" font-family=\"Times New Roman,serif\" font-size=\"14.00\">Mayavi</text>\r\n",
       "</g>\r\n",
       "<!-- x3dom&#45;&gt;Mayavi -->\r\n",
       "<g id=\"edge12\" class=\"edge\"><title>x3dom&#45;&gt;Mayavi</title>\r\n",
       "<path fill=\"none\" stroke=\"black\" d=\"M191.182,-329.004C192.968,-327.125 194.599,-325.123 196,-323 218.706,-288.588 192.864,-267.398 214,-232 230.833,-203.808 240.986,-198.314 271,-185 354.633,-147.901 465.437,-143.894 516.313,-144.252\"/>\r\n",
       "<polygon fill=\"black\" stroke=\"black\" points=\"188.854,-326.391 183.684,-335.638 193.492,-331.633 188.854,-326.391\"/>\r\n",
       "<text text-anchor=\"middle\" x=\"319.5\" y=\"-188.8\" font-family=\"Times New Roman,serif\" font-size=\"14.00\" fill=\"red\">Static HTML</text>\r\n",
       "</g>\r\n",
       "<!-- vtk.js&#45;&gt;ParaViewWeb -->\r\n",
       "<g id=\"edge7\" class=\"edge\"><title>vtk.js&#45;&gt;ParaViewWeb</title>\r\n",
       "<path fill=\"none\" stroke=\"black\" d=\"M192.285,-447.851C215.427,-439.994 245.814,-429.677 270.972,-421.136\"/>\r\n",
       "<polygon fill=\"black\" stroke=\"black\" points=\"190.872,-444.634 182.528,-451.163 193.122,-451.263 190.872,-444.634\"/>\r\n",
       "</g>\r\n",
       "<!-- VPython -->\r\n",
       "<g id=\"node13\" class=\"node\"><title>VPython</title>\r\n",
       "<polygon fill=\"none\" stroke=\"black\" points=\"512,-72 512,-108 578,-108 578,-72 512,-72\"/>\r\n",
       "<text text-anchor=\"middle\" x=\"545\" y=\"-86.3\" font-family=\"Times New Roman,serif\" font-size=\"14.00\">VPython</text>\r\n",
       "</g>\r\n",
       "<!-- GlowScript&#45;&gt;VPython -->\r\n",
       "<g id=\"edge15\" class=\"edge\"><title>GlowScript&#45;&gt;VPython</title>\r\n",
       "<path fill=\"none\" stroke=\"black\" d=\"M166.839,-267.441C182.682,-229.756 216.936,-163.77 271,-137 351.164,-97.3059 458.954,-90.4813 511.909,-89.717\"/>\r\n",
       "<polygon fill=\"black\" stroke=\"black\" points=\"163.551,-266.236 163.031,-276.818 170.036,-268.869 163.551,-266.236\"/>\r\n",
       "<text text-anchor=\"middle\" x=\"319.5\" y=\"-140.8\" font-family=\"Times New Roman,serif\" font-size=\"14.00\" fill=\"red\">Comm</text>\r\n",
       "</g>\r\n",
       "<!-- K3D&#45;Jupyter -->\r\n",
       "<g id=\"node12\" class=\"node\"><title>K3D&#45;Jupyter</title>\r\n",
       "<polygon fill=\"none\" stroke=\"black\" points=\"501,-347 501,-383 589,-383 589,-347 501,-347\"/>\r\n",
       "<text text-anchor=\"middle\" x=\"545\" y=\"-361.3\" font-family=\"Times New Roman,serif\" font-size=\"14.00\">K3D&#45;Jupyter</text>\r\n",
       "</g>\r\n",
       "<!-- K3D&#45;&gt;K3D&#45;Jupyter -->\r\n",
       "<g id=\"edge14\" class=\"edge\"><title>K3D&#45;&gt;K3D&#45;Jupyter</title>\r\n",
       "<path fill=\"none\" stroke=\"black\" d=\"M356.059,-444.886C395.519,-428.113 459.175,-401.055 501.301,-383.149\"/>\r\n",
       "<polygon fill=\"black\" stroke=\"black\" points=\"354.41,-441.783 346.576,-448.916 357.148,-448.226 354.41,-441.783\"/>\r\n",
       "<text text-anchor=\"middle\" x=\"434.5\" y=\"-434.8\" font-family=\"Times New Roman,serif\" font-size=\"14.00\" fill=\"red\">IPyWidgets sync</text>\r\n",
       "</g>\r\n",
       "<!-- VisPy.scene -->\r\n",
       "<g id=\"node16\" class=\"node\"><title>VisPy.scene</title>\r\n",
       "<polygon fill=\"none\" stroke=\"black\" points=\"626,-17 626,-53 712,-53 712,-17 626,-17\"/>\r\n",
       "<text text-anchor=\"middle\" x=\"669\" y=\"-31.3\" font-family=\"Times New Roman,serif\" font-size=\"14.00\">VisPy.scene</text>\r\n",
       "</g>\r\n",
       "<!-- VisPy.gloo&#45;&gt;VisPy.scene -->\r\n",
       "<g id=\"edge9\" class=\"edge\"><title>VisPy.gloo&#45;&gt;VisPy.scene</title>\r\n",
       "<path fill=\"none\" stroke=\"black\" d=\"M594.7,-35C605.007,-35 615.803,-35 625.844,-35\"/>\r\n",
       "<polygon fill=\"black\" stroke=\"black\" points=\"594.602,-31.5001 584.602,-35 594.602,-38.5001 594.602,-31.5001\"/>\r\n",
       "</g>\r\n",
       "</g>\r\n",
       "</svg>\r\n"
      ],
      "text/plain": [
       "<graphviz.dot.Digraph at 0x19845b565c0>"
      ]
     },
     "execution_count": 5,
     "metadata": {},
     "output_type": "execute_result"
    }
   ],
   "source": [
    "g_browser = apply_styles(\n",
    "    add_nodes(graph(name='cluster0'), browser_nodes),\n",
    "    {\n",
    "        'graph': {\n",
    "            'label': 'Browser',\n",
    "        },\n",
    "        'nodes': {\n",
    "            'shape': 'record',\n",
    "        }\n",
    "    }\n",
    ")\n",
    "g_kernel = apply_styles(\n",
    "    add_nodes(graph(name='cluster1'), kernel_nodes),\n",
    "    {\n",
    "        'graph': {\n",
    "            'label': 'Kernel',\n",
    "        },\n",
    "        'nodes': {\n",
    "            'shape': 'record',\n",
    "        }\n",
    "    }\n",
    ")\n",
    "\n",
    "add_edges_reversed(g_browser, web_intra_dependencies)\n",
    "add_edges_reversed(g_kernel, kernel_intra_dependencies)\n",
    "\n",
    "g = apply_styles(\n",
    "    graph(),\n",
    "    {\n",
    "        'graph': dict(rankdir='LR'),\n",
    "        'edges': dict(fontcolor='red', dir='back')\n",
    "    }\n",
    ")\n",
    "g.subgraph(g_browser)\n",
    "g.subgraph(g_kernel)\n",
    "add_edges_reversed(g, kernel_browser_dependencies)"
   ]
  },
  {
   "cell_type": "markdown",
   "metadata": {
    "deletable": true,
    "editable": true
   },
   "source": [
    "### Output:"
   ]
  },
  {
   "cell_type": "markdown",
   "metadata": {
    "deletable": true,
    "editable": true
   },
   "source": [
    "Run to save as `dependencies.svg`:"
   ]
  },
  {
   "cell_type": "code",
   "execution_count": 6,
   "metadata": {
    "collapsed": false,
    "deletable": true,
    "editable": true
   },
   "outputs": [
    {
     "data": {
      "text/plain": [
       "'dependencies.svg'"
      ]
     },
     "execution_count": 6,
     "metadata": {},
     "output_type": "execute_result"
    }
   ],
   "source": [
    "g.render(filename='dependencies')"
   ]
  },
  {
   "cell_type": "markdown",
   "metadata": {
    "deletable": true,
    "editable": true
   },
   "source": [
    "Run to output DOT graph syntax as text:"
   ]
  },
  {
   "cell_type": "code",
   "execution_count": 7,
   "metadata": {
    "collapsed": false,
    "deletable": true,
    "editable": true
   },
   "outputs": [
    {
     "name": "stdout",
     "output_type": "stream",
     "text": [
      "digraph {\n",
      "\tgraph [rankdir=LR]\n",
      "\tedge [dir=back fontcolor=red]\n",
      "\t\tsubgraph cluster0 {\n",
      "\t\t\tgraph [label=Browser]\n",
      "\t\t\tnode [shape=record]\n",
      "\t\t\t\tWebGL [fillcolor=lightblue style=filled]\n",
      "\t\t\t\tThreeJS [fillcolor=lightblue style=filled]\n",
      "\t\t\t\tx3dom [fillcolor=lightblue style=filled]\n",
      "\t\t\t\t\"vtk.js\" [fillcolor=lightblue style=filled]\n",
      "\t\t\t\tGlowScript\n",
      "\t\t\t\tK3D\n",
      "\t\t\t\tParaViewWeb [fillcolor=beige style=filled]\n",
      "\t\t\t\tSciviJS [fillcolor=beige style=filled]\n",
      "\t\t\t\t\tWebGL -> ThreeJS\n",
      "\t\t\t\t\tWebGL -> x3dom\n",
      "\t\t\t\t\tWebGL -> \"vtk.js\"\n",
      "\t\t\t\t\tWebGL -> GlowScript\n",
      "\t\t\t\t\tThreeJS -> K3D\n",
      "\t\t\t\t\tThreeJS -> ParaViewWeb\n",
      "\t\t\t\t\t\"vtk.js\" -> ParaViewWeb\n",
      "\t\t\t\t\tThreeJS -> SciviJS\n",
      "\t\t}\n",
      "\t\tsubgraph cluster1 {\n",
      "\t\t\tgraph [label=Kernel]\n",
      "\t\t\tnode [shape=record]\n",
      "\t\t\t\tPyThreeJS [fillcolor=lightblue style=filled]\n",
      "\t\t\t\tMayavi\n",
      "\t\t\t\t\"VisPy.gloo\"\n",
      "\t\t\t\t\"K3D-Jupyter\"\n",
      "\t\t\t\tVPython\n",
      "\t\t\t\t\"Sage.plot3d\"\n",
      "\t\t\t\tIPyVolume\n",
      "\t\t\t\t\"VisPy.scene\"\n",
      "\t\t\t\t\t\"VisPy.gloo\" -> \"VisPy.scene\"\n",
      "\t\t}\n",
      "\t\t\tThreeJS -> PyThreeJS [label=\"IPyWidgets sync\"]\n",
      "\t\t\tThreeJS -> IPyVolume [label=\"IPyWidgets sync\"]\n",
      "\t\t\tx3dom -> Mayavi [label=\"Static HTML\"]\n",
      "\t\t\tWebGL -> \"VisPy.gloo\" [label=Comm]\n",
      "\t\t\tK3D -> \"K3D-Jupyter\" [label=\"IPyWidgets sync\"]\n",
      "\t\t\tGlowScript -> VPython [label=Comm]\n",
      "\t\t\tThreeJS -> \"Sage.plot3d\" [label=\"Static HTML\"]\n",
      "}\n"
     ]
    }
   ],
   "source": [
    "print(g)"
   ]
  }
 ],
 "metadata": {
  "kernelspec": {
   "display_name": "Python 3",
   "language": "python",
   "name": "python3"
  },
  "language_info": {
   "codemirror_mode": {
    "name": "ipython",
    "version": 3
   },
   "file_extension": ".py",
   "mimetype": "text/x-python",
   "name": "python",
   "nbconvert_exporter": "python",
   "pygments_lexer": "ipython3",
   "version": "3.5.2"
  }
 },
 "nbformat": 4,
 "nbformat_minor": 2
}
